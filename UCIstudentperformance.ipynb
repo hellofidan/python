{
  "nbformat": 4,
  "nbformat_minor": 0,
  "metadata": {
    "colab": {
      "name": "Untitled0.ipynb",
      "provenance": [],
      "authorship_tag": "ABX9TyMjaq3S3rUHdyfFIJdHcNnG",
      "include_colab_link": true
    },
    "kernelspec": {
      "name": "python3",
      "display_name": "Python 3"
    }
  },
  "cells": [
    {
      "cell_type": "markdown",
      "metadata": {
        "id": "view-in-github",
        "colab_type": "text"
      },
      "source": [
        "<a href=\"https://colab.research.google.com/github/hellofidan/python/blob/master/UCIstudentperformance.ipynb\" target=\"_parent\"><img src=\"https://colab.research.google.com/assets/colab-badge.svg\" alt=\"Open In Colab\"/></a>"
      ]
    },
    {
      "cell_type": "code",
      "metadata": {
        "id": "_ODK5ILLfTzk",
        "colab_type": "code",
        "colab": {}
      },
      "source": [
        "from numpy import loadtxt\n",
        "from keras.models import Sequential\n",
        "from keras.layers import Dense\n",
        "import pandas as pd\n"
      ],
      "execution_count": 0,
      "outputs": []
    },
    {
      "cell_type": "code",
      "metadata": {
        "id": "SOKU6rszfd0s",
        "colab_type": "code",
        "colab": {
          "resources": {
            "http://localhost:8080/nbextensions/google.colab/files.js": {
              "data": "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",
              "ok": true,
              "headers": [
                [
                  "content-type",
                  "application/javascript"
                ]
              ],
              "status": 200,
              "status_text": ""
            }
          },
          "base_uri": "https://localhost:8080/",
          "height": 74
        },
        "outputId": "1881d23c-841d-42b8-cc60-824a11540d2b"
      },
      "source": [
        "from google.colab import files\n",
        "uploaded = files.upload()\n"
      ],
      "execution_count": 152,
      "outputs": [
        {
          "output_type": "display_data",
          "data": {
            "text/html": [
              "\n",
              "     <input type=\"file\" id=\"files-e0455001-dacd-47b3-b7e7-c1129f49d1ce\" name=\"files[]\" multiple disabled />\n",
              "     <output id=\"result-e0455001-dacd-47b3-b7e7-c1129f49d1ce\">\n",
              "      Upload widget is only available when the cell has been executed in the\n",
              "      current browser session. Please rerun this cell to enable.\n",
              "      </output>\n",
              "      <script src=\"/nbextensions/google.colab/files.js\"></script> "
            ],
            "text/plain": [
              "<IPython.core.display.HTML object>"
            ]
          },
          "metadata": {
            "tags": []
          }
        },
        {
          "output_type": "stream",
          "text": [
            "Saving student-mat.csv to student-mat (2).csv\n"
          ],
          "name": "stdout"
        }
      ]
    },
    {
      "cell_type": "code",
      "metadata": {
        "id": "qvfZZeV1iMEw",
        "colab_type": "code",
        "colab": {}
      },
      "source": [
        "import io\n",
        "df = pd.read_csv(io.BytesIO(uploaded['student-mat.csv']),sep=';')"
      ],
      "execution_count": 0,
      "outputs": []
    },
    {
      "cell_type": "code",
      "metadata": {
        "id": "ZgZXLG8liXmS",
        "colab_type": "code",
        "colab": {
          "base_uri": "https://localhost:8080/",
          "height": 255
        },
        "outputId": "2c719b91-3e17-4746-fc45-a674ba6c3c9d"
      },
      "source": [
        "X = df.iloc[:,:-1]\n",
        "y = df.iloc[:,-1]\n",
        "X.info"
      ],
      "execution_count": 154,
      "outputs": [
        {
          "output_type": "execute_result",
          "data": {
            "text/plain": [
              "<bound method DataFrame.info of     school sex  age address famsize  ... Walc  health  absences  G1  G2\n",
              "0       GP   F   18       U     GT3  ...    1       3         6   5   6\n",
              "1       GP   F   17       U     GT3  ...    1       3         4   5   5\n",
              "2       GP   F   15       U     LE3  ...    3       3        10   7   8\n",
              "3       GP   F   15       U     GT3  ...    1       5         2  15  14\n",
              "4       GP   F   16       U     GT3  ...    2       5         4   6  10\n",
              "..     ...  ..  ...     ...     ...  ...  ...     ...       ...  ..  ..\n",
              "390     MS   M   20       U     LE3  ...    5       4        11   9   9\n",
              "391     MS   M   17       U     LE3  ...    4       2         3  14  16\n",
              "392     MS   M   21       R     GT3  ...    3       3         3  10   8\n",
              "393     MS   M   18       R     LE3  ...    4       5         0  11  12\n",
              "394     MS   M   19       U     LE3  ...    3       5         5   8   9\n",
              "\n",
              "[395 rows x 32 columns]>"
            ]
          },
          "metadata": {
            "tags": []
          },
          "execution_count": 154
        }
      ]
    },
    {
      "cell_type": "code",
      "metadata": {
        "id": "N3N-0kOpkO_R",
        "colab_type": "code",
        "colab": {
          "base_uri": "https://localhost:8080/",
          "height": 323
        },
        "outputId": "6b746666-d3c1-4dea-faac-452faaf1a8c7"
      },
      "source": [
        "columns = list(X.select_dtypes(include=['object']).copy().columns)\n",
        "X= pd.get_dummies(X, columns=columns)\n",
        "y = pd.DataFrame(y)\n",
        "\n",
        "y=y['G3']>10\n",
        "\n",
        "from sklearn.preprocessing import  LabelEncoder\n",
        "labelEncoder_y = LabelEncoder()\n",
        "y=labelEncoder_y.fit_transform(y)\n",
        "\n",
        "\n",
        "y"
      ],
      "execution_count": 155,
      "outputs": [
        {
          "output_type": "execute_result",
          "data": {
            "text/plain": [
              "array([0, 0, 0, 1, 0, 1, 1, 0, 1, 1, 0, 1, 1, 1, 1, 1, 1, 0, 0, 0, 1, 1,\n",
              "       1, 1, 0, 0, 1, 1, 1, 1, 1, 1, 1, 1, 1, 0, 1, 1, 1, 1, 1, 1, 1, 1,\n",
              "       0, 0, 1, 1, 1, 0, 1, 1, 0, 1, 1, 0, 1, 1, 0, 1, 1, 1, 0, 0, 0, 1,\n",
              "       1, 0, 0, 1, 1, 0, 0, 1, 1, 0, 0, 1, 0, 0, 1, 1, 0, 1, 0, 0, 0, 1,\n",
              "       0, 0, 0, 1, 0, 0, 1, 0, 1, 0, 1, 0, 0, 1, 1, 0, 1, 1, 0, 1, 1, 1,\n",
              "       1, 0, 1, 1, 0, 1, 1, 1, 0, 1, 1, 1, 1, 1, 0, 1, 1, 0, 0, 1, 0, 0,\n",
              "       1, 1, 0, 0, 0, 0, 1, 1, 0, 0, 1, 1, 0, 1, 0, 1, 0, 0, 0, 1, 0, 0,\n",
              "       1, 0, 1, 0, 1, 1, 0, 0, 0, 0, 0, 1, 0, 1, 0, 1, 0, 1, 0, 0, 0, 0,\n",
              "       1, 0, 0, 1, 0, 1, 1, 0, 1, 1, 1, 1, 0, 0, 1, 0, 0, 0, 1, 1, 1, 0,\n",
              "       1, 0, 1, 0, 0, 0, 1, 0, 0, 1, 0, 0, 0, 1, 1, 0, 0, 1, 0, 0, 0, 0,\n",
              "       0, 0, 1, 1, 1, 0, 1, 1, 0, 1, 1, 1, 0, 1, 0, 0, 1, 1, 1, 0, 1, 1,\n",
              "       0, 1, 0, 1, 1, 0, 0, 1, 0, 0, 0, 0, 1, 0, 1, 1, 1, 0, 1, 0, 1, 0,\n",
              "       0, 1, 0, 1, 0, 0, 0, 1, 1, 1, 0, 1, 0, 0, 0, 0, 0, 0, 1, 0, 1, 1,\n",
              "       1, 1, 1, 1, 1, 1, 1, 1, 1, 1, 0, 0, 1, 1, 1, 0, 1, 1, 1, 1, 1, 0,\n",
              "       1, 0, 0, 1, 1, 1, 1, 1, 0, 0, 0, 1, 1, 0, 1, 1, 1, 1, 1, 0, 0, 1,\n",
              "       0, 1, 0, 0, 0, 1, 1, 0, 1, 0, 1, 0, 1, 0, 0, 1, 1, 0, 1, 1, 0, 1,\n",
              "       0, 0, 1, 0, 1, 1, 0, 1, 1, 1, 0, 1, 1, 0, 1, 0, 0, 1, 0, 1, 1, 0,\n",
              "       1, 0, 1, 0, 1, 0, 1, 0, 0, 0, 0, 0, 0, 0, 0, 0, 0, 1, 0, 0, 0])"
            ]
          },
          "metadata": {
            "tags": []
          },
          "execution_count": 155
        }
      ]
    },
    {
      "cell_type": "code",
      "metadata": {
        "id": "ee4aTdeVyNdy",
        "colab_type": "code",
        "colab": {
          "base_uri": "https://localhost:8080/",
          "height": 34
        },
        "outputId": "9633cafa-9b52-4d01-f8d1-c14781cb5e50"
      },
      "source": [
        "y = pd.DataFrame(data=y, columns=['G3'])\n",
        "from sklearn.preprocessing import StandardScaler\n",
        "\n",
        "scaler = StandardScaler()\n",
        "scaler.fit(X)"
      ],
      "execution_count": 156,
      "outputs": [
        {
          "output_type": "execute_result",
          "data": {
            "text/plain": [
              "StandardScaler(copy=True, with_mean=True, with_std=True)"
            ]
          },
          "metadata": {
            "tags": []
          },
          "execution_count": 156
        }
      ]
    },
    {
      "cell_type": "code",
      "metadata": {
        "id": "0sSJ3fPYm1pt",
        "colab_type": "code",
        "colab": {}
      },
      "source": [
        "from sklearn.model_selection import train_test_split\n",
        "X_train, X_test, y_train, y_test = train_test_split(X, y, test_size=0.30, random_state=42)"
      ],
      "execution_count": 0,
      "outputs": []
    },
    {
      "cell_type": "code",
      "metadata": {
        "id": "zoljnopG0CvM",
        "colab_type": "code",
        "colab": {
          "base_uri": "https://localhost:8080/",
          "height": 1000
        },
        "outputId": "a3698297-8fbd-4126-ae13-c1d81b8c79ff"
      },
      "source": [
        "\n",
        "model = Sequential()\n",
        "model.add(Dense(12, input_dim=58, activation='relu'))\n",
        "model.add(Dense(8, activation='relu'))\n",
        "model.add(Dense(1, activation='sigmoid'))\n",
        "\n",
        "model.compile(loss='binary_crossentropy', optimizer='adam', metrics=['accuracy'])\n",
        "\n",
        "model.fit(X_train, y_train, epochs=150, batch_size=10)"
      ],
      "execution_count": 158,
      "outputs": [
        {
          "output_type": "stream",
          "text": [
            "Epoch 1/150\n",
            "276/276 [==============================] - 0s 434us/step - loss: 0.8955 - accuracy: 0.5543\n",
            "Epoch 2/150\n",
            "276/276 [==============================] - 0s 129us/step - loss: 0.7538 - accuracy: 0.5580\n",
            "Epoch 3/150\n",
            "276/276 [==============================] - 0s 115us/step - loss: 0.7004 - accuracy: 0.5978\n",
            "Epoch 4/150\n",
            "276/276 [==============================] - 0s 143us/step - loss: 0.6201 - accuracy: 0.7029\n",
            "Epoch 5/150\n",
            "276/276 [==============================] - 0s 139us/step - loss: 0.5782 - accuracy: 0.7391\n",
            "Epoch 6/150\n",
            "276/276 [==============================] - 0s 139us/step - loss: 0.5318 - accuracy: 0.7971\n",
            "Epoch 7/150\n",
            "276/276 [==============================] - 0s 140us/step - loss: 0.4897 - accuracy: 0.8116\n",
            "Epoch 8/150\n",
            "276/276 [==============================] - 0s 130us/step - loss: 0.4466 - accuracy: 0.8261\n",
            "Epoch 9/150\n",
            "276/276 [==============================] - 0s 153us/step - loss: 0.4070 - accuracy: 0.8514\n",
            "Epoch 10/150\n",
            "276/276 [==============================] - 0s 119us/step - loss: 0.3806 - accuracy: 0.8442\n",
            "Epoch 11/150\n",
            "276/276 [==============================] - 0s 119us/step - loss: 0.3485 - accuracy: 0.8732\n",
            "Epoch 12/150\n",
            "276/276 [==============================] - 0s 114us/step - loss: 0.3239 - accuracy: 0.8768\n",
            "Epoch 13/150\n",
            "276/276 [==============================] - 0s 123us/step - loss: 0.3020 - accuracy: 0.9022\n",
            "Epoch 14/150\n",
            "276/276 [==============================] - 0s 122us/step - loss: 0.2808 - accuracy: 0.9022\n",
            "Epoch 15/150\n",
            "276/276 [==============================] - 0s 115us/step - loss: 0.2776 - accuracy: 0.8949\n",
            "Epoch 16/150\n",
            "276/276 [==============================] - 0s 125us/step - loss: 0.2492 - accuracy: 0.9239\n",
            "Epoch 17/150\n",
            "276/276 [==============================] - 0s 125us/step - loss: 0.2387 - accuracy: 0.9312\n",
            "Epoch 18/150\n",
            "276/276 [==============================] - 0s 129us/step - loss: 0.2261 - accuracy: 0.9239\n",
            "Epoch 19/150\n",
            "276/276 [==============================] - 0s 125us/step - loss: 0.2126 - accuracy: 0.9275\n",
            "Epoch 20/150\n",
            "276/276 [==============================] - 0s 123us/step - loss: 0.2097 - accuracy: 0.9275\n",
            "Epoch 21/150\n",
            "276/276 [==============================] - 0s 131us/step - loss: 0.1967 - accuracy: 0.9275\n",
            "Epoch 22/150\n",
            "276/276 [==============================] - 0s 142us/step - loss: 0.1906 - accuracy: 0.9239\n",
            "Epoch 23/150\n",
            "276/276 [==============================] - 0s 132us/step - loss: 0.1780 - accuracy: 0.9348\n",
            "Epoch 24/150\n",
            "276/276 [==============================] - 0s 134us/step - loss: 0.1718 - accuracy: 0.9312\n",
            "Epoch 25/150\n",
            "276/276 [==============================] - 0s 132us/step - loss: 0.1642 - accuracy: 0.9529\n",
            "Epoch 26/150\n",
            "276/276 [==============================] - 0s 132us/step - loss: 0.1620 - accuracy: 0.9457\n",
            "Epoch 27/150\n",
            "276/276 [==============================] - 0s 136us/step - loss: 0.1503 - accuracy: 0.9457\n",
            "Epoch 28/150\n",
            "276/276 [==============================] - 0s 132us/step - loss: 0.1575 - accuracy: 0.9348\n",
            "Epoch 29/150\n",
            "276/276 [==============================] - 0s 132us/step - loss: 0.1451 - accuracy: 0.9529\n",
            "Epoch 30/150\n",
            "276/276 [==============================] - 0s 125us/step - loss: 0.1381 - accuracy: 0.9529\n",
            "Epoch 31/150\n",
            "276/276 [==============================] - 0s 135us/step - loss: 0.1412 - accuracy: 0.9348\n",
            "Epoch 32/150\n",
            "276/276 [==============================] - 0s 125us/step - loss: 0.1300 - accuracy: 0.9638\n",
            "Epoch 33/150\n",
            "276/276 [==============================] - 0s 133us/step - loss: 0.1279 - accuracy: 0.9565\n",
            "Epoch 34/150\n",
            "276/276 [==============================] - 0s 135us/step - loss: 0.1314 - accuracy: 0.9457\n",
            "Epoch 35/150\n",
            "276/276 [==============================] - 0s 149us/step - loss: 0.1177 - accuracy: 0.9601\n",
            "Epoch 36/150\n",
            "276/276 [==============================] - 0s 144us/step - loss: 0.1211 - accuracy: 0.9493\n",
            "Epoch 37/150\n",
            "276/276 [==============================] - 0s 144us/step - loss: 0.1131 - accuracy: 0.9638\n",
            "Epoch 38/150\n",
            "276/276 [==============================] - 0s 128us/step - loss: 0.1098 - accuracy: 0.9638\n",
            "Epoch 39/150\n",
            "276/276 [==============================] - 0s 127us/step - loss: 0.1163 - accuracy: 0.9565\n",
            "Epoch 40/150\n",
            "276/276 [==============================] - 0s 133us/step - loss: 0.1189 - accuracy: 0.9457\n",
            "Epoch 41/150\n",
            "276/276 [==============================] - 0s 129us/step - loss: 0.1138 - accuracy: 0.9638\n",
            "Epoch 42/150\n",
            "276/276 [==============================] - 0s 138us/step - loss: 0.1113 - accuracy: 0.9565\n",
            "Epoch 43/150\n",
            "276/276 [==============================] - 0s 131us/step - loss: 0.1066 - accuracy: 0.9601\n",
            "Epoch 44/150\n",
            "276/276 [==============================] - 0s 148us/step - loss: 0.0984 - accuracy: 0.9565\n",
            "Epoch 45/150\n",
            "276/276 [==============================] - 0s 155us/step - loss: 0.0966 - accuracy: 0.9565\n",
            "Epoch 46/150\n",
            "276/276 [==============================] - 0s 166us/step - loss: 0.0918 - accuracy: 0.9674\n",
            "Epoch 47/150\n",
            "276/276 [==============================] - 0s 175us/step - loss: 0.0895 - accuracy: 0.9746\n",
            "Epoch 48/150\n",
            "276/276 [==============================] - 0s 158us/step - loss: 0.0876 - accuracy: 0.9710\n",
            "Epoch 49/150\n",
            "276/276 [==============================] - 0s 159us/step - loss: 0.0827 - accuracy: 0.9710\n",
            "Epoch 50/150\n",
            "276/276 [==============================] - 0s 137us/step - loss: 0.0848 - accuracy: 0.9783\n",
            "Epoch 51/150\n",
            "276/276 [==============================] - 0s 130us/step - loss: 0.0796 - accuracy: 0.9746\n",
            "Epoch 52/150\n",
            "276/276 [==============================] - 0s 132us/step - loss: 0.0764 - accuracy: 0.9783\n",
            "Epoch 53/150\n",
            "276/276 [==============================] - 0s 128us/step - loss: 0.0763 - accuracy: 0.9819\n",
            "Epoch 54/150\n",
            "276/276 [==============================] - 0s 135us/step - loss: 0.0756 - accuracy: 0.9710\n",
            "Epoch 55/150\n",
            "276/276 [==============================] - 0s 132us/step - loss: 0.0730 - accuracy: 0.9783\n",
            "Epoch 56/150\n",
            "276/276 [==============================] - 0s 137us/step - loss: 0.0736 - accuracy: 0.9746\n",
            "Epoch 57/150\n",
            "276/276 [==============================] - 0s 134us/step - loss: 0.0688 - accuracy: 0.9783\n",
            "Epoch 58/150\n",
            "276/276 [==============================] - 0s 135us/step - loss: 0.0705 - accuracy: 0.9783\n",
            "Epoch 59/150\n",
            "276/276 [==============================] - 0s 167us/step - loss: 0.0711 - accuracy: 0.9819\n",
            "Epoch 60/150\n",
            "276/276 [==============================] - 0s 139us/step - loss: 0.0658 - accuracy: 0.9819\n",
            "Epoch 61/150\n",
            "276/276 [==============================] - 0s 154us/step - loss: 0.0625 - accuracy: 0.9783\n",
            "Epoch 62/150\n",
            "276/276 [==============================] - 0s 139us/step - loss: 0.0622 - accuracy: 0.9819\n",
            "Epoch 63/150\n",
            "276/276 [==============================] - 0s 136us/step - loss: 0.0674 - accuracy: 0.9783\n",
            "Epoch 64/150\n",
            "276/276 [==============================] - 0s 139us/step - loss: 0.0622 - accuracy: 0.9819\n",
            "Epoch 65/150\n",
            "276/276 [==============================] - 0s 133us/step - loss: 0.0560 - accuracy: 0.9855\n",
            "Epoch 66/150\n",
            "276/276 [==============================] - 0s 131us/step - loss: 0.0545 - accuracy: 0.9855\n",
            "Epoch 67/150\n",
            "276/276 [==============================] - 0s 130us/step - loss: 0.0566 - accuracy: 0.9855\n",
            "Epoch 68/150\n",
            "276/276 [==============================] - 0s 133us/step - loss: 0.0638 - accuracy: 0.9783\n",
            "Epoch 69/150\n",
            "276/276 [==============================] - 0s 134us/step - loss: 0.0507 - accuracy: 0.9891\n",
            "Epoch 70/150\n",
            "276/276 [==============================] - 0s 143us/step - loss: 0.0507 - accuracy: 0.9891\n",
            "Epoch 71/150\n",
            "276/276 [==============================] - 0s 133us/step - loss: 0.0497 - accuracy: 0.9855\n",
            "Epoch 72/150\n",
            "276/276 [==============================] - 0s 133us/step - loss: 0.0515 - accuracy: 0.9928\n",
            "Epoch 73/150\n",
            "276/276 [==============================] - 0s 131us/step - loss: 0.0508 - accuracy: 0.9891\n",
            "Epoch 74/150\n",
            "276/276 [==============================] - 0s 134us/step - loss: 0.0498 - accuracy: 0.9819\n",
            "Epoch 75/150\n",
            "276/276 [==============================] - 0s 146us/step - loss: 0.0449 - accuracy: 0.9855\n",
            "Epoch 76/150\n",
            "276/276 [==============================] - 0s 138us/step - loss: 0.0480 - accuracy: 0.9855\n",
            "Epoch 77/150\n",
            "276/276 [==============================] - 0s 128us/step - loss: 0.0462 - accuracy: 0.9891\n",
            "Epoch 78/150\n",
            "276/276 [==============================] - 0s 137us/step - loss: 0.0423 - accuracy: 0.9891\n",
            "Epoch 79/150\n",
            "276/276 [==============================] - 0s 129us/step - loss: 0.0404 - accuracy: 0.9928\n",
            "Epoch 80/150\n",
            "276/276 [==============================] - 0s 130us/step - loss: 0.0398 - accuracy: 0.9928\n",
            "Epoch 81/150\n",
            "276/276 [==============================] - 0s 150us/step - loss: 0.0392 - accuracy: 0.9964\n",
            "Epoch 82/150\n",
            "276/276 [==============================] - 0s 133us/step - loss: 0.0442 - accuracy: 0.9855\n",
            "Epoch 83/150\n",
            "276/276 [==============================] - 0s 130us/step - loss: 0.0403 - accuracy: 0.9891\n",
            "Epoch 84/150\n",
            "276/276 [==============================] - 0s 138us/step - loss: 0.0382 - accuracy: 0.9928\n",
            "Epoch 85/150\n",
            "276/276 [==============================] - 0s 130us/step - loss: 0.0353 - accuracy: 0.9964\n",
            "Epoch 86/150\n",
            "276/276 [==============================] - 0s 140us/step - loss: 0.0387 - accuracy: 0.9928\n",
            "Epoch 87/150\n",
            "276/276 [==============================] - 0s 158us/step - loss: 0.0355 - accuracy: 0.9964\n",
            "Epoch 88/150\n",
            "276/276 [==============================] - 0s 145us/step - loss: 0.0343 - accuracy: 0.9964\n",
            "Epoch 89/150\n",
            "276/276 [==============================] - 0s 135us/step - loss: 0.0317 - accuracy: 0.9964\n",
            "Epoch 90/150\n",
            "276/276 [==============================] - 0s 131us/step - loss: 0.0319 - accuracy: 0.9964\n",
            "Epoch 91/150\n",
            "276/276 [==============================] - 0s 139us/step - loss: 0.0333 - accuracy: 0.9928\n",
            "Epoch 92/150\n",
            "276/276 [==============================] - 0s 136us/step - loss: 0.0304 - accuracy: 0.9964\n",
            "Epoch 93/150\n",
            "276/276 [==============================] - 0s 130us/step - loss: 0.0314 - accuracy: 0.9964\n",
            "Epoch 94/150\n",
            "276/276 [==============================] - 0s 129us/step - loss: 0.0285 - accuracy: 0.9964\n",
            "Epoch 95/150\n",
            "276/276 [==============================] - 0s 130us/step - loss: 0.0268 - accuracy: 0.9964\n",
            "Epoch 96/150\n",
            "276/276 [==============================] - 0s 125us/step - loss: 0.0272 - accuracy: 0.9928\n",
            "Epoch 97/150\n",
            "276/276 [==============================] - 0s 156us/step - loss: 0.0262 - accuracy: 0.9964\n",
            "Epoch 98/150\n",
            "276/276 [==============================] - 0s 163us/step - loss: 0.0256 - accuracy: 0.9964\n",
            "Epoch 99/150\n",
            "276/276 [==============================] - 0s 128us/step - loss: 0.0244 - accuracy: 0.9964\n",
            "Epoch 100/150\n",
            "276/276 [==============================] - 0s 132us/step - loss: 0.0256 - accuracy: 0.9964\n",
            "Epoch 101/150\n",
            "276/276 [==============================] - 0s 129us/step - loss: 0.0248 - accuracy: 0.9964\n",
            "Epoch 102/150\n",
            "276/276 [==============================] - 0s 136us/step - loss: 0.0235 - accuracy: 0.9964\n",
            "Epoch 103/150\n",
            "276/276 [==============================] - 0s 148us/step - loss: 0.0256 - accuracy: 0.9964\n",
            "Epoch 104/150\n",
            "276/276 [==============================] - 0s 133us/step - loss: 0.0238 - accuracy: 1.0000\n",
            "Epoch 105/150\n",
            "276/276 [==============================] - 0s 131us/step - loss: 0.0220 - accuracy: 0.9964\n",
            "Epoch 106/150\n",
            "276/276 [==============================] - 0s 129us/step - loss: 0.0201 - accuracy: 0.9964\n",
            "Epoch 107/150\n",
            "276/276 [==============================] - 0s 137us/step - loss: 0.0199 - accuracy: 1.0000\n",
            "Epoch 108/150\n",
            "276/276 [==============================] - 0s 160us/step - loss: 0.0225 - accuracy: 0.9964\n",
            "Epoch 109/150\n",
            "276/276 [==============================] - 0s 163us/step - loss: 0.0193 - accuracy: 0.9964\n",
            "Epoch 110/150\n",
            "276/276 [==============================] - 0s 141us/step - loss: 0.0184 - accuracy: 1.0000\n",
            "Epoch 111/150\n",
            "276/276 [==============================] - 0s 133us/step - loss: 0.0189 - accuracy: 0.9964\n",
            "Epoch 112/150\n",
            "276/276 [==============================] - 0s 178us/step - loss: 0.0178 - accuracy: 0.9964\n",
            "Epoch 113/150\n",
            "276/276 [==============================] - 0s 134us/step - loss: 0.0178 - accuracy: 1.0000\n",
            "Epoch 114/150\n",
            "276/276 [==============================] - 0s 134us/step - loss: 0.0203 - accuracy: 0.9964\n",
            "Epoch 115/150\n",
            "276/276 [==============================] - 0s 135us/step - loss: 0.0165 - accuracy: 1.0000\n",
            "Epoch 116/150\n",
            "276/276 [==============================] - 0s 131us/step - loss: 0.0159 - accuracy: 0.9964\n",
            "Epoch 117/150\n",
            "276/276 [==============================] - 0s 130us/step - loss: 0.0189 - accuracy: 1.0000\n",
            "Epoch 118/150\n",
            "276/276 [==============================] - 0s 138us/step - loss: 0.0168 - accuracy: 1.0000\n",
            "Epoch 119/150\n",
            "276/276 [==============================] - 0s 133us/step - loss: 0.0144 - accuracy: 1.0000\n",
            "Epoch 120/150\n",
            "276/276 [==============================] - 0s 132us/step - loss: 0.0142 - accuracy: 1.0000\n",
            "Epoch 121/150\n",
            "276/276 [==============================] - 0s 132us/step - loss: 0.0144 - accuracy: 1.0000\n",
            "Epoch 122/150\n",
            "276/276 [==============================] - 0s 136us/step - loss: 0.0149 - accuracy: 1.0000\n",
            "Epoch 123/150\n",
            "276/276 [==============================] - 0s 147us/step - loss: 0.0133 - accuracy: 0.9964\n",
            "Epoch 124/150\n",
            "276/276 [==============================] - 0s 133us/step - loss: 0.0133 - accuracy: 1.0000\n",
            "Epoch 125/150\n",
            "276/276 [==============================] - 0s 131us/step - loss: 0.0125 - accuracy: 1.0000\n",
            "Epoch 126/150\n",
            "276/276 [==============================] - 0s 131us/step - loss: 0.0125 - accuracy: 1.0000\n",
            "Epoch 127/150\n",
            "276/276 [==============================] - 0s 129us/step - loss: 0.0121 - accuracy: 1.0000\n",
            "Epoch 128/150\n",
            "276/276 [==============================] - 0s 137us/step - loss: 0.0117 - accuracy: 1.0000\n",
            "Epoch 129/150\n",
            "276/276 [==============================] - 0s 154us/step - loss: 0.0121 - accuracy: 1.0000\n",
            "Epoch 130/150\n",
            "276/276 [==============================] - 0s 163us/step - loss: 0.0108 - accuracy: 1.0000\n",
            "Epoch 131/150\n",
            "276/276 [==============================] - 0s 144us/step - loss: 0.0108 - accuracy: 1.0000\n",
            "Epoch 132/150\n",
            "276/276 [==============================] - 0s 140us/step - loss: 0.0099 - accuracy: 1.0000\n",
            "Epoch 133/150\n",
            "276/276 [==============================] - 0s 134us/step - loss: 0.0097 - accuracy: 1.0000\n",
            "Epoch 134/150\n",
            "276/276 [==============================] - 0s 127us/step - loss: 0.0098 - accuracy: 1.0000\n",
            "Epoch 135/150\n",
            "276/276 [==============================] - 0s 142us/step - loss: 0.0095 - accuracy: 1.0000\n",
            "Epoch 136/150\n",
            "276/276 [==============================] - 0s 139us/step - loss: 0.0090 - accuracy: 1.0000\n",
            "Epoch 137/150\n",
            "276/276 [==============================] - 0s 141us/step - loss: 0.0089 - accuracy: 1.0000\n",
            "Epoch 138/150\n",
            "276/276 [==============================] - 0s 155us/step - loss: 0.0092 - accuracy: 1.0000\n",
            "Epoch 139/150\n",
            "276/276 [==============================] - 0s 132us/step - loss: 0.0091 - accuracy: 1.0000\n",
            "Epoch 140/150\n",
            "276/276 [==============================] - 0s 134us/step - loss: 0.0086 - accuracy: 1.0000\n",
            "Epoch 141/150\n",
            "276/276 [==============================] - 0s 142us/step - loss: 0.0086 - accuracy: 1.0000\n",
            "Epoch 142/150\n",
            "276/276 [==============================] - 0s 128us/step - loss: 0.0084 - accuracy: 1.0000\n",
            "Epoch 143/150\n",
            "276/276 [==============================] - 0s 136us/step - loss: 0.0076 - accuracy: 1.0000\n",
            "Epoch 144/150\n",
            "276/276 [==============================] - 0s 148us/step - loss: 0.0085 - accuracy: 1.0000\n",
            "Epoch 145/150\n",
            "276/276 [==============================] - 0s 186us/step - loss: 0.0083 - accuracy: 1.0000\n",
            "Epoch 146/150\n",
            "276/276 [==============================] - 0s 142us/step - loss: 0.0071 - accuracy: 1.0000\n",
            "Epoch 147/150\n",
            "276/276 [==============================] - 0s 135us/step - loss: 0.0066 - accuracy: 1.0000\n",
            "Epoch 148/150\n",
            "276/276 [==============================] - 0s 131us/step - loss: 0.0065 - accuracy: 1.0000\n",
            "Epoch 149/150\n",
            "276/276 [==============================] - 0s 133us/step - loss: 0.0064 - accuracy: 1.0000\n",
            "Epoch 150/150\n",
            "276/276 [==============================] - 0s 135us/step - loss: 0.0067 - accuracy: 1.0000\n"
          ],
          "name": "stdout"
        },
        {
          "output_type": "execute_result",
          "data": {
            "text/plain": [
              "<keras.callbacks.callbacks.History at 0x7f1fb22d5518>"
            ]
          },
          "metadata": {
            "tags": []
          },
          "execution_count": 158
        }
      ]
    },
    {
      "cell_type": "code",
      "metadata": {
        "id": "0fkQ5-_S0_B6",
        "colab_type": "code",
        "colab": {
          "base_uri": "https://localhost:8080/",
          "height": 51
        },
        "outputId": "4c703e21-0efb-4112-efd0-0b224b235e39"
      },
      "source": [
        "results = model.evaluate(X_test, y_test, batch_size=128)\n",
        "print('test loss, test acc:', results)"
      ],
      "execution_count": 159,
      "outputs": [
        {
          "output_type": "stream",
          "text": [
            "\r119/119 [==============================] - 0s 132us/step\n",
            "test loss, test acc: [0.4441002607345581, 0.8571428656578064]\n"
          ],
          "name": "stdout"
        }
      ]
    },
    {
      "cell_type": "code",
      "metadata": {
        "id": "J3bhcMqW66To",
        "colab_type": "code",
        "colab": {
          "base_uri": "https://localhost:8080/",
          "height": 34
        },
        "outputId": "9779d093-8efb-4e72-edaa-69b71b580565"
      },
      "source": [
        "print(model.metrics_names)\n"
      ],
      "execution_count": 160,
      "outputs": [
        {
          "output_type": "stream",
          "text": [
            "['loss', 'accuracy']\n"
          ],
          "name": "stdout"
        }
      ]
    }
  ]
}